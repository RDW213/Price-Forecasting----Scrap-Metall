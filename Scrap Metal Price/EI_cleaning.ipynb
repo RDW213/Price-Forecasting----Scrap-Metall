{
 "cells": [
  {
   "cell_type": "code",
   "execution_count": 17,
   "metadata": {},
   "outputs": [],
   "source": [
    "import pandas as pd\n",
    "import os"
   ]
  },
  {
   "cell_type": "code",
   "execution_count": 18,
   "metadata": {},
   "outputs": [],
   "source": [
    "path = 'F:\\\\Python\\\\5900_capstone\\\\Metal-Price-Trend\\\\data\\\\raw\\\\'"
   ]
  },
  {
   "cell_type": "code",
   "execution_count": 19,
   "metadata": {},
   "outputs": [],
   "source": [
    "def categorize(fileName):\n",
    "    if \"Employment\" in fileName:\n",
    "        return \"Employment\"\n",
    "    elif \"GDP\" in fileName or \"Money\" in fileName or \"Consumer\" in fileName or \"Currency\" in fileName:\n",
    "        return \"Economy\"\n",
    "    elif \"Housing\" in fileName:\n",
    "        return \"Housing\"\n",
    "    elif \"Automotive\" in fileName:\n",
    "        return \"Automotive\"\n",
    "    elif \"Energy\" in fileName:\n",
    "        return \"Energy\"\n",
    "    elif \"Agri-Equipment\" in fileName:\n",
    "        return \"Agriculture\"\n",
    "    elif \"Freight\" in fileName:\n",
    "        return \"Freight\"\n",
    "    elif \"Construction\" in fileName:\n",
    "        return \"Construction\"\n",
    "    elif \"OECD\" in fileName:\n",
    "        return \"OECD\"\n",
    "        \n",
    "    "
   ]
  },
  {
   "cell_type": "code",
   "execution_count": 20,
   "metadata": {},
   "outputs": [],
   "source": [
    "def getUnit(string):\n",
    "    if \"B of $\" in string:\n",
    "        return \"Billion USD\"\n",
    "    elif \"%\" in string or \"% Change\" in string:\n",
    "        return \"Percent\"\n",
    "    elif \"M of $\" in string or \"M of USD\" in string:\n",
    "        return \"Million USD\"\n",
    "    elif \"$/ton\" in string:\n",
    "        return \"USD/ton\"\n",
    "    elif \"$/barrel\" in string:\n",
    "        return \"USD/barrel\"\n",
    "    elif \"$/MBtu\" in string:\n",
    "        return \"USD/MBtu\"\n",
    "    elif \"BillionCuFt\" in string:\n",
    "        return \"USD/BillionCuFt\"\n",
    "    elif \"ThousCuFt\" in string:\n",
    "        return \"USD/ThousCuFt\"\n",
    "    elif \"$\" in string:\n",
    "        return \"USD\"\n",
    "    elif \"Thous. of Units\" in string:\n",
    "        return \"Thousand of Units\"\n",
    "    elif \"Thous\" in string:\n",
    "        return \"Thousand of Peoples\"\n",
    "    elif \"Units\" in string:\n",
    "        return \"Unit\"\n",
    "    else:\n",
    "        return None"
   ]
  },
  {
   "cell_type": "code",
   "execution_count": 21,
   "metadata": {},
   "outputs": [],
   "source": [
    "def nameCleaning(string):\n",
    "    endings_to_remove = [\" Thous. of Units\", \" Thous.\", \" Units\", \n",
    "                         \" BillionCuFt\", \" ThousCuFt\", \" $\", \" %\", \" B of $ (ShadStat)\"]\n",
    "    for ending in endings_to_remove:\n",
    "        if string.endswith(ending):\n",
    "            string = string.rsplit(',', 1)[0]\n",
    "            break\n",
    "    string = string.replace('%', 'percent')\n",
    "    string = string.replace('.', '')\n",
    "    string = string.replace(',', '')\n",
    "    string = string.replace(' ', '_')\n",
    "    string = string.replace('$', 'USD')\n",
    "    string = string.replace('&', 'and')\n",
    "    return string"
   ]
  },
  {
   "cell_type": "code",
   "execution_count": 22,
   "metadata": {},
   "outputs": [],
   "source": [
    "def get_category_and_unit(filename):\n",
    "    df = pd.read_csv('F:\\\\Python\\\\5900_capstone\\\\Metal-Price-Trend\\\\data\\\\raw\\\\' + filename)\n",
    "    df.dropna(how='all', inplace=True)\n",
    "    df = df.iloc[:-1]\n",
    "    first_column = df.columns[0]\n",
    "    \n",
    "    df['unit'] = df[first_column].apply(getUnit)\n",
    "    df.insert(2, 'Unit', df['unit'])\n",
    "    df.drop(columns=['unit'], inplace=True)\n",
    "    \n",
    "    df['category'] = categorize(filename)\n",
    "    df.insert(1, 'Category', df['category'])\n",
    "    df.drop(columns=['category'], inplace=True)\n",
    "    \n",
    "    df[first_column] = df[first_column].apply(nameCleaning)\n",
    "    \n",
    "    df.to_csv('F:\\\\Python\\\\5900_capstone\\\\Metal-Price-Trend\\\\data\\\\test\\\\' + filename, index=False)"
   ]
  },
  {
   "cell_type": "code",
   "execution_count": 23,
   "metadata": {},
   "outputs": [],
   "source": [
    "for filename in os.listdir(path):\n",
    "    if filename.startswith(\"EI_\") and filename.endswith(\".csv\"):\n",
    "        get_category_and_unit(filename)"
   ]
  },
  {
   "cell_type": "code",
   "execution_count": 24,
   "metadata": {},
   "outputs": [],
   "source": [
    "file_dir = 'F:\\\\Python\\\\5900_capstone\\\\Metal-Price-Trend\\\\data\\\\test\\\\EI_Monthly_OECD.csv'\n",
    "\n",
    "df = pd.read_csv(file_dir)\n",
    "df['Unit'] = \"USD/Labour\"\n",
    "df.to_csv('F:\\\\Python\\\\5900_capstone\\\\Metal-Price-Trend\\\\data\\\\test\\\\EI_Monthly_OECD.csv', index=False)"
   ]
  }
 ],
 "metadata": {
  "kernelspec": {
   "display_name": "Python 3",
   "language": "python",
   "name": "python3"
  },
  "language_info": {
   "codemirror_mode": {
    "name": "ipython",
    "version": 3
   },
   "file_extension": ".py",
   "mimetype": "text/x-python",
   "name": "python",
   "nbconvert_exporter": "python",
   "pygments_lexer": "ipython3",
   "version": "3.11.4"
  },
  "orig_nbformat": 4
 },
 "nbformat": 4,
 "nbformat_minor": 2
}
