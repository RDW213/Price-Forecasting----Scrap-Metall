{
 "cells": [
  {
   "cell_type": "code",
   "execution_count": 1,
   "metadata": {},
   "outputs": [],
   "source": [
    "import pandas as pd\n",
    "import os"
   ]
  },
  {
   "cell_type": "code",
   "execution_count": 3,
   "metadata": {},
   "outputs": [],
   "source": [
    "def convert_date(date_str):\n",
    "    try:\n",
    "        if len(date_str) == 4 and date_str.isdigit():\n",
    "            datetime_obj = pd.to_datetime('01/01/' + date_str, format='%m/%d/%Y')\n",
    "        elif '-' in date_str and len(date_str.split('-')[1]) == 2:\n",
    "            datetime_obj = pd.to_datetime(date_str, format='%b-%y')\n",
    "        else:\n",
    "            datetime_obj = pd.to_datetime(date_str, format='%m/%d/%y')\n",
    "            if datetime_obj.year > 2053:\n",
    "                datetime_obj = datetime_obj.replace(year=datetime_obj.year - 100)\n",
    "        return datetime_obj.strftime('%Y-%m-%d')\n",
    "    except:\n",
    "        return None"
   ]
  },
  {
   "cell_type": "code",
   "execution_count": 9,
   "metadata": {},
   "outputs": [
    {
     "name": "stderr",
     "output_type": "stream",
     "text": [
      "C:\\Users\\26871\\AppData\\Local\\Temp\\ipykernel_14080\\368197076.py:5: SettingWithCopyWarning: \n",
      "A value is trying to be set on a copy of a slice from a DataFrame.\n",
      "Try using .loc[row_indexer,col_indexer] = value instead\n",
      "\n",
      "See the caveats in the documentation: https://pandas.pydata.org/pandas-docs/stable/user_guide/indexing.html#returning-a-view-versus-a-copy\n",
      "  reference_table['Description'] = None\n"
     ]
    }
   ],
   "source": [
    "AD = pd.read_csv('F:\\\\Python\\\\5900_capstone\\\\Metal-Price-Trend\\\\data\\\\raw\\\\annual_data.csv')\n",
    "AD.dropna(axis=1, how='all', inplace=True)\n",
    "AD['Data Series'] = AD['Data Series'].str.replace(',', '').str.replace(' ', '_')\n",
    "reference_table = AD[['Data Series', 'Category', 'Source', 'Unit']]\n",
    "reference_table['Description'] = None\n",
    "reference_table.to_csv('F:\\\\Python\\\\5900_capstone\\\\Metal-Price-Trend\\\\data\\\\Annual_Data_reference_table.csv', index=False)\n",
    "time_series_part = AD.set_index('Data Series').drop(columns=['SeriesID', 'Category', 'Source', 'Unit'])\n",
    "time_series_AD = time_series_part.transpose().reset_index()\n",
    "time_series_AD = time_series_AD.rename(columns={'index': 'date'})\n",
    "time_series_AD['date'] = time_series_AD['date'].apply(convert_date)\n",
    "time_series_AD.to_csv('F:\\\\Python\\\\5900_capstone\\\\Metal-Price-Trend\\\\data\\\\time_series\\\\annual_data.csv', index=False)"
   ]
  },
  {
   "cell_type": "code",
   "execution_count": 11,
   "metadata": {},
   "outputs": [
    {
     "name": "stderr",
     "output_type": "stream",
     "text": [
      "C:\\Users\\26871\\AppData\\Local\\Temp\\ipykernel_14080\\4150825191.py:5: SettingWithCopyWarning: \n",
      "A value is trying to be set on a copy of a slice from a DataFrame.\n",
      "Try using .loc[row_indexer,col_indexer] = value instead\n",
      "\n",
      "See the caveats in the documentation: https://pandas.pydata.org/pandas-docs/stable/user_guide/indexing.html#returning-a-view-versus-a-copy\n",
      "  reference_table['Description'] = None\n"
     ]
    }
   ],
   "source": [
    "PA = pd.read_csv('F:\\\\Python\\\\5900_capstone\\\\Metal-Price-Trend\\\\data\\\\raw\\\\pair_analysis.csv')\n",
    "PA.dropna(axis=1, how='all', inplace=True)\n",
    "PA['Data Series'] = PA['Data Series'].str.replace(',', '').str.replace(' ', '_')\n",
    "reference_table = PA[['Data Series', 'Category', 'Source', 'Unit']]\n",
    "reference_table['Description'] = None\n",
    "reference_table.to_csv('F:\\\\Python\\\\5900_capstone\\\\Metal-Price-Trend\\\\data\\\\Pair_Analysis_reference_table.csv', index=False)\n",
    "time_series_part = PA.set_index('Data Series').drop(columns=['SeriesID', 'CatID', 'UOMID', 'Category', 'Source', 'Unit'])\n",
    "time_series_PA = time_series_part.transpose().reset_index()\n",
    "time_series_PA = time_series_PA.rename(columns={'index': 'date'})\n",
    "time_series_PA['date'] = time_series_PA['date'].apply(convert_date)\n",
    "time_series_PA.to_csv('F:\\\\Python\\\\5900_capstone\\\\Metal-Price-Trend\\\\data\\\\time_series\\\\pair_analysis.csv', index=False)"
   ]
  },
  {
   "cell_type": "code",
   "execution_count": 5,
   "metadata": {},
   "outputs": [],
   "source": [
    "def EI_transfer(file_name):\n",
    "    df = pd.read_csv('F:\\\\Python\\\\5900_capstone\\\\Metal-Price-Trend\\\\data\\\\test\\\\' + file_name)\n",
    "    first = df.iloc[:, :6]\n",
    "    rest = df.iloc[:, 6:]\n",
    "    rest.dropna(axis=1, how='all', inplace=True)\n",
    "    df = pd.concat([first, rest], axis=1)\n",
    "    \n",
    "    first_column_name = df.columns[0]\n",
    "    df_extracted = pd.DataFrame()\n",
    "    df_extracted['Data Series'] = df[first_column_name]\n",
    "    df_extracted = pd.concat([df_extracted['Data Series'], df[['Category', 'Source', 'Unit']]], axis=1)\n",
    "    #df_extracted.to_csv('F:\\\\Python\\\\5900_capstone\\\\Metal-Price-Trend\\\\data\\\\EI_reference_table.csv', index=False, mode='a')\n",
    "    \n",
    "    df_melted = df.melt(id_vars=list(df.columns)[:6],\n",
    "                    value_vars=list(df.columns)[6:],\n",
    "                    var_name='date',\n",
    "                    value_name='value')\n",
    "    df_melted['date'] = df_melted['date'].apply(convert_date)\n",
    "    df_melted.to_csv('F:\\\\Python\\\\5900_capstone\\\\Metal-Price-Trend\\\\data\\\\' + file_name, index=False)"
   ]
  },
  {
   "cell_type": "code",
   "execution_count": 6,
   "metadata": {},
   "outputs": [],
   "source": [
    "directory = 'F:\\\\Python\\\\5900_capstone\\\\Metal-Price-Trend\\\\data\\\\test\\\\'\n",
    "for filename in os.listdir(directory):\n",
    "    if filename.startswith(\"EI_\") and filename.endswith(\".csv\"):\n",
    "        EI_transfer(filename)"
   ]
  },
  {
   "cell_type": "code",
   "execution_count": 14,
   "metadata": {},
   "outputs": [],
   "source": [
    "def change_to_time_series(filename):\n",
    "    df = pd.read_csv('F:\\\\Python\\\\5900_capstone\\\\Metal-Price-Trend\\\\data\\\\' + filename)\n",
    "\n",
    "    earliest_date = pd.to_datetime(df['date']).min()\n",
    "    dates = pd.date_range(start=earliest_date, end=\"2023-08-01\", freq='D')\n",
    "    output = pd.DataFrame({'date': dates})\n",
    "    \n",
    "    first_column_name = df.columns[0]\n",
    "    \n",
    "    df = df[df['Source'].str.upper() != 'FRED']\n",
    "    \n",
    "    time_series_df = df.pivot(index='date', columns=first_column_name, values='value').reset_index()\n",
    "    \n",
    "    source_map = df.set_index(first_column_name)['Source'].to_dict()\n",
    "    time_series_df.columns = [f\"{source_map[col]}_{col}\" if col != 'date' else 'date' for col in time_series_df.columns]\n",
    "    time_series_df['date'] = pd.to_datetime(time_series_df['date'])\n",
    "    merged_df = output.merge(time_series_df, on='date', how='left')\n",
    "    \n",
    "    merged_df.dropna(subset=merged_df.columns[1:], how='all', inplace=True)\n",
    "    merged_df.to_csv('F:\\\\Python\\\\5900_capstone\\\\Metal-Price-Trend\\\\data\\\\time_series\\\\' + filename, index=False)"
   ]
  },
  {
   "cell_type": "code",
   "execution_count": 15,
   "metadata": {},
   "outputs": [],
   "source": [
    "directory = 'F:\\\\Python\\\\5900_capstone\\\\Metal-Price-Trend\\\\data\\\\'\n",
    "for filename in os.listdir(directory):\n",
    "    if filename.startswith(\"EI_\") and filename.endswith(\".csv\"):\n",
    "        change_to_time_series(filename)"
   ]
  }
 ],
 "metadata": {
  "kernelspec": {
   "display_name": "Python 3",
   "language": "python",
   "name": "python3"
  },
  "language_info": {
   "codemirror_mode": {
    "name": "ipython",
    "version": 3
   },
   "file_extension": ".py",
   "mimetype": "text/x-python",
   "name": "python",
   "nbconvert_exporter": "python",
   "pygments_lexer": "ipython3",
   "version": "3.11.4"
  },
  "orig_nbformat": 4
 },
 "nbformat": 4,
 "nbformat_minor": 2
}
